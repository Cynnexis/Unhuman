{
 "cells": [
  {
   "cell_type": "code",
   "execution_count": 1,
   "metadata": {},
   "outputs": [],
   "source": [
    "# -*- coding: utf-8 -*-"
   ]
  },
  {
   "cell_type": "markdown",
   "metadata": {},
   "source": [
    "# Unhuman Project #"
   ]
  },
  {
   "cell_type": "markdown",
   "metadata": {},
   "source": [
    "## Tutorial - Keras ##"
   ]
  },
  {
   "cell_type": "markdown",
   "metadata": {},
   "source": [
    "In this document, I will write the python code given by the [TensorFlow Tutorial: Keras Guide](https://www.tensorflow.org/guide/keras)\n",
    "\n",
    "Keras is an API to help build and train artificial intelligence model, implemented in TensorFlow library. The *model* is a group of layers which contains neurons."
   ]
  },
  {
   "cell_type": "markdown",
   "metadata": {},
   "source": [
    "### Get Started with Keras ###"
   ]
  },
  {
   "cell_type": "markdown",
   "metadata": {},
   "source": [
    "In Python, to import keras, the following code must be added:"
   ]
  },
  {
   "cell_type": "code",
   "execution_count": 2,
   "metadata": {},
   "outputs": [
    {
     "name": "stderr",
     "output_type": "stream",
     "text": [
      "Using TensorFlow backend.\n"
     ]
    }
   ],
   "source": [
    "import tensorflow as tf\n",
    "import keras"
   ]
  },
  {
   "cell_type": "markdown",
   "metadata": {},
   "source": [
    "We can now use keras through ```tf.keras``` module.\n",
    "\n",
    "Note that you might need to install the ```keras``` python package by using:\n",
    "```bash\n",
    "pip install keras\n",
    "```\n",
    "or\n",
    "```bash\n",
    "conda install -n myenv keras\n",
    "```"
   ]
  },
  {
   "cell_type": "markdown",
   "metadata": {},
   "source": [
    "### Build Simple Model ###"
   ]
  },
  {
   "cell_type": "markdown",
   "metadata": {},
   "source": [
    "#### Sequential Model ####"
   ]
  },
  {
   "cell_type": "markdown",
   "metadata": {},
   "source": [
    "The following code build a Sequential model, with a fully-connected neural network (multi-layer perceptron):"
   ]
  },
  {
   "cell_type": "code",
   "execution_count": 3,
   "metadata": {},
   "outputs": [],
   "source": [
    "model = tf.keras.Sequential()\n",
    "\n",
    "# Add a dense layer containing 64 neurons\n",
    "model.add(tf.keras.layers.Dense(units=64, activation=\"relu\"))\n",
    "\n",
    "# Add another\n",
    "model.add(tf.keras.layers.Dense(units=64, activation=\"relu\"))\n",
    "\n",
    "# Add a softmax layer with 10 output neurons\n",
    "model.add(tf.keras.layers.Dense(units=10, activation=\"softmax\"))"
   ]
  },
  {
   "cell_type": "markdown",
   "metadata": {},
   "source": [
    "As a reminder, The ```relu``` activation function, also called **Rectifer function** returns 0 if the inputs ```x``` is less or equal to zero, or ```x``` otherwise. In other words, the function will conserve the effect during the training process. The following formula shows the function in a more mathematical way:\n",
    "\\begin{equation*}\n",
    "f(x) = \\begin{Bmatrix}\n",
    "0 & if x \\leq 0\\\\ \n",
    "x & if x > 0\n",
    "\\end{Bmatrix} = max(0, x)\n",
    "\\end{equation*}\n",
    "![Retifier function](../../../../../res/images/relu.png)\n",
    "\n",
    "---\n",
    "\n",
    "The **Softmax function**, on the other hand, help to train classification model. The function $\\sigma(z)_{j}$ takes as input a vector. The parameter $j$ is the index of the output neuron ($j = 1, 2, ..., K$). The following equation represents the Softmax function:\n",
    "\\begin{equation*}\n",
    "\\sigma(z)_{j} = \\frac{e^{z_{j}}}{\\sum_{k=1}^{K} e^{z_k}}\n",
    "\\end{equation*}\n",
    "\n",
    "---\n",
    "\n",
    "Another known activation function which is not in this python code is **Sigmoid function**. This function is widely use in artificial intelligence, and it is one of the most activation functions.\n",
    "\\begin{equation*}\n",
    "f(x) = \\frac{1}{1 + e^{-x}}\n",
    "\\end{equation*}\n",
    "![Sigmoid function](../../../../../res/images/sigmoid.png)"
   ]
  },
  {
   "cell_type": "markdown",
   "metadata": {},
   "source": [
    "#### Configuration ####"
   ]
  },
  {
   "cell_type": "markdown",
   "metadata": {},
   "source": [
    "Amongst all [```tf.keras.layers```](https://www.tensorflow.org/api_docs/python/tf/keras/layers) constructors, there are common arguments that must be detailed before delve into it:\n",
    "* **```activation=```:** The activation function of the neurons for this specific layer. It can be a function name (```str```) or the built-in function it-self (ex: ```tf.keras.layers.Dense(units=10, activation=tf.sigmoid)```).\n",
    "* **```kernel_initialize=```:** The layer's weights at initialization, for every neuron in the layer (ex: ```kernel_initializer=\"orthogonal\"```).\n",
    "* **```biad_initialize=```:** The layer's bias weight only at initialization, for every neuron in the layer (ex: ```bias_initializer=tf.keras/initializers.constant(2.0)```).\n",
    "* **```kernel_regularizer=```:** The regularization that modify the layer's weights (ex: ```kernel_regularizer=tf.keras.regularizers.l1(0.01)```). By default, there is no regularization.\n",
    "* **```bias_regularizer=```:** The regularization that modify the layer's bias weight (ex: ```bias_regularizer=tf.keras.regularizers.l2(0.01)```). By default, there is no regularization."
   ]
  },
  {
   "cell_type": "markdown",
   "metadata": {},
   "source": [
    "### Training ###"
   ]
  },
  {
   "cell_type": "markdown",
   "metadata": {},
   "source": [
    "#### Configuration ####"
   ]
  },
  {
   "cell_type": "markdown",
   "metadata": {},
   "source": [
    "The method [```tf.keras.Model.compile```](https://www.tensorflow.org/api_docs/python/tf/keras/Model#compile) allow the developer to configure the training process. The most relevant arguments are:\n",
    "* **```optimzer=```:** The optimizer that will train the model. See the module [```tf.train```](https://www.tensorflow.org/api_docs/python/tf/train) for more detail, and have a look at [```AdamOptimizer```](https://www.tensorflow.org/api_docs/python/tf/train/AdamOptimizer), [```RMSPropOptimizer```](https://www.tensorflow.org/api_docs/python/tf/train/RMSPropOptimizer) and [```GradientDescentOptimizer```](https://www.tensorflow.org/api_docs/python/tf/train/GradientDescentOptimizer) which are the three most known optimizer in TensorFlow.\n",
    "* **```loss=```:** The function that compute the error between the computed value by the model, and the expected value (label). The code below is the error function in the [TensorFlow eager tutorial](https://www.tensorflow.org/tutorials/eager/custom_training_walkthrough#define_the_loss_and_gradient_function) that can be passed as argument for this parameter:\n",
    "```python\n",
    "def error(model: tf.keras.models.Model, x, y):\n",
    "\t\"\"\"\n",
    "\tCompute the error between the value returned by model(x) and the expected result y\n",
    "\t:param model: The model to use\n",
    "\t:param x: The input(s)\n",
    "\t:param y: The expected value that the model is supposed to return with x as input(s)\n",
    "\t:return: The error between the actual value and the expected value\n",
    "\t\"\"\"\n",
    "\tcomputed_y = model(x)\n",
    "\treturn tf.losses.sparse_softmax_cross_entropy(labels=y, logits=computed_y)\n",
    "```\n",
    "* **```metrics=```:** The metric to monitor and evaluate during the training/testing process. For more detail about this argument, please [see the documentation about it](https://www.tensorflow.org/api_docs/python/tf/keras/Model#compile). This parameter accept string, list of string, dictionary (containing string as value) or function type (which are listed [here](https://www.tensorflow.org/api_docs/python/tf/keras/metrics)). A typical example is ```metrics=[\"accuracy\"]``` to monitor the accracy level, or ```metrics=[\"mae\"]``` to watch the *mean absolute error*.\n",
    "\n",
    "For more examples about this method, please have a look at the [TensorFlow tutorial page](https://www.tensorflow.org/guide/keras#set_up_training).\n",
    "\n",
    "Now, let's configure the model:"
   ]
  },
  {
   "cell_type": "code",
   "execution_count": 4,
   "metadata": {},
   "outputs": [],
   "source": [
    "model.compile(\n",
    "    optimizer=tf.train.AdamOptimizer(0.001),\n",
    "    loss=\"categorical_crossentropy\",\n",
    "    metrics=[\"accuracy\"]\n",
    ")"
   ]
  },
  {
   "cell_type": "markdown",
   "metadata": {},
   "source": [
    "#### *Fit* Training ####"
   ]
  },
  {
   "cell_type": "markdown",
   "metadata": {},
   "source": [
    "For this example, a small dataset will be used to train the model (as it doesn't have any purpose). Fortunatly, TensorFlow has implemented a function for that instead of passing through a training-loop. And this alternative is [```model.fit()```](https://www.tensorflow.org/api_docs/python/tf/keras/Model#fit) methods, which take 5 important parameters:\n",
    "* **```x=```:** The inputs (*features*) (an array of array of int, for instance)\n",
    "* **```y=```:** The expected outputs (*labels*)\n",
    "* **```batch_size=```:** The number of *slices* of inputs to cut for each iteration. A typical value is ```32```. Warning: The last batch might be very small if the number of samples is not divisible by ```batch_size```.\n",
    "* **```epochs=```:** Number of iterations through the whole dataset input.\n",
    "* **```verbose=```:** (*Optional*) Set the log level: 0 for quiet mode, 1 to display a progressbar (default), or 2 for one line per epoch.\n",
    "* **```validation_data=```:** (*Optional*) Tuple of features and labels. The ```fit``` function will compute the error made by the model at each iteration using this dataset and print it.\n",
    "\n",
    "Time for training the model. I will use the library [NumPy](https://www.numpy.org/) to generate a random dataset:"
   ]
  },
  {
   "cell_type": "code",
   "execution_count": 5,
   "metadata": {},
   "outputs": [
    {
     "name": "stdout",
     "output_type": "stream",
     "text": [
      "Train on 1000 samples, validate on 1000 samples\n",
      "Epoch 1/10\n",
      "1000/1000 [==============================] - 0s 338us/step - loss: 11.5947 - acc: 0.0940 - val_loss: 11.5586 - val_acc: 0.0990\n",
      "Epoch 2/10\n",
      "1000/1000 [==============================] - 0s 121us/step - loss: 11.5348 - acc: 0.0990 - val_loss: 11.5520 - val_acc: 0.0990\n",
      "Epoch 3/10\n",
      "1000/1000 [==============================] - 0s 119us/step - loss: 11.5243 - acc: 0.1110 - val_loss: 11.5499 - val_acc: 0.1050\n",
      "Epoch 4/10\n",
      "1000/1000 [==============================] - 0s 123us/step - loss: 11.5181 - acc: 0.1300 - val_loss: 11.5478 - val_acc: 0.1040\n",
      "Epoch 5/10\n",
      "1000/1000 [==============================] - 0s 124us/step - loss: 11.5139 - acc: 0.1300 - val_loss: 11.5489 - val_acc: 0.1060\n",
      "Epoch 6/10\n",
      "1000/1000 [==============================] - 0s 104us/step - loss: 11.5093 - acc: 0.1410 - val_loss: 11.5485 - val_acc: 0.1030\n",
      "Epoch 7/10\n",
      "1000/1000 [==============================] - 0s 116us/step - loss: 11.5052 - acc: 0.1480 - val_loss: 11.5490 - val_acc: 0.1120\n",
      "Epoch 8/10\n",
      "1000/1000 [==============================] - 0s 116us/step - loss: 11.5008 - acc: 0.1630 - val_loss: 11.5515 - val_acc: 0.1030\n",
      "Epoch 9/10\n",
      "1000/1000 [==============================] - 0s 121us/step - loss: 11.4975 - acc: 0.1610 - val_loss: 11.5518 - val_acc: 0.1080\n",
      "Epoch 10/10\n",
      "1000/1000 [==============================] - 0s 117us/step - loss: 11.4933 - acc: 0.1750 - val_loss: 11.5537 - val_acc: 0.1050\n"
     ]
    },
    {
     "data": {
      "text/plain": [
       "<tensorflow.python.keras._impl.keras.callbacks.History at 0x7f9e2c5a86a0>"
      ]
     },
     "execution_count": 5,
     "metadata": {},
     "output_type": "execute_result"
    }
   ],
   "source": [
    "import numpy as np\n",
    "\n",
    "features = np.random.random((1000, 32)) # Generate an array containing 1000 array which contain 32 values each\n",
    "labels   = np.random.random((1000, 10)) # array containing 1000 arrays containing 10 values\n",
    "\n",
    "val_features = np.random.random((1000, 32))\n",
    "val_labels   = np.random.random((1000, 10))\n",
    "\n",
    "model.fit(\n",
    "    x=features,\n",
    "    y=labels,\n",
    "    batch_size=32,\n",
    "    epochs=10,\n",
    "    validation_data=(val_features, val_labels)\n",
    ")"
   ]
  },
  {
   "cell_type": "markdown",
   "metadata": {},
   "source": [
    "If you execute this code, you must see above the output given by the ```fit``` function after computing the validation data at each iteration. You may found a very high loss value (~11.5) and an accuracy value very low (~0.1). The answer of this paradox is that the training dataset and the validation dataset are both **randomly generated**, and then they might not have any link between those two sets. So don't worry if you find such values.\n",
    "\n",
    "Now let's see how to train the model with larger dataset. In this case, the ```fit``` function must take the class [```tf.data.Dataset```](https://www.tensorflow.org/api_docs/python/tf/data/Dataset). For more information about the Dataset class, please see the [tutorial related to that subject](https://www.tensorflow.org/guide/datasets). An additional argument is required for this case: **```steps_per_epoch```** take an integer that will set the number of training step to run before moving to the next iteration. Finally, as ```Dataset``` is a TensorFlow-type, there is no need to specify the batch as it is wrapped in the ```Dataset``` instance:"
   ]
  },
  {
   "cell_type": "code",
   "execution_count": 6,
   "metadata": {
    "scrolled": false
   },
   "outputs": [
    {
     "name": "stderr",
     "output_type": "stream",
     "text": [
      "ERROR:root:Error while training model\n",
      "Traceback (most recent call last):\n",
      "  File \"<ipython-input-6-d90b06a579a9>\", line 15, in <module>\n",
      "    validation_steps=3\n",
      "  File \"/home/valentin/anaconda3/envs/tensorflow/lib/python3.5/site-packages/tensorflow/python/keras/_impl/keras/engine/training.py\", line 1143, in fit\n",
      "    batch_size=batch_size)\n",
      "  File \"/home/valentin/anaconda3/envs/tensorflow/lib/python3.5/site-packages/tensorflow/python/keras/_impl/keras/engine/training.py\", line 765, in _standardize_user_data\n",
      "    exception_prefix='input')\n",
      "  File \"/home/valentin/anaconda3/envs/tensorflow/lib/python3.5/site-packages/tensorflow/python/keras/_impl/keras/engine/training_utils.py\", line 150, in standardize_input_data\n",
      "    data = [standardize_single_array(x) for x in data]\n",
      "  File \"/home/valentin/anaconda3/envs/tensorflow/lib/python3.5/site-packages/tensorflow/python/keras/_impl/keras/engine/training_utils.py\", line 150, in <listcomp>\n",
      "    data = [standardize_single_array(x) for x in data]\n",
      "  File \"/home/valentin/anaconda3/envs/tensorflow/lib/python3.5/site-packages/tensorflow/python/keras/_impl/keras/engine/training_utils.py\", line 88, in standardize_single_array\n",
      "    elif x.ndim == 1:\n",
      "AttributeError: 'RepeatDataset' object has no attribute 'ndim'\n"
     ]
    }
   ],
   "source": [
    "dataset = tf.data.Dataset.from_tensor_slices((features, labels))\n",
    "dataset = dataset.batch(32).repeat()\n",
    "\n",
    "val_dataset = tf.data.Dataset.from_tensor_slices((val_features, val_labels))\n",
    "val_dataset = val_dataset.batch(32).repeat()\n",
    "\n",
    "import logging\n",
    "\n",
    "try:\n",
    "    model.fit(\n",
    "        x=dataset,\n",
    "        epochs=10,\n",
    "        steps_per_epoch=30,\n",
    "        validation_data=val_dataset,\n",
    "        validation_steps=3\n",
    "    )\n",
    "except (ValueError, AttributeError) as e:\n",
    "    logging.exception(\"Error while training model\")"
   ]
  },
  {
   "cell_type": "markdown",
   "metadata": {},
   "source": [
    "#### Evaluation & Prediction ####"
   ]
  },
  {
   "cell_type": "markdown",
   "metadata": {},
   "source": [
    "This is it! The model is finally ready to evaluate and predict some stuff! For that, the methods [```model.evaluate()```](https://www.tensorflow.org/api_docs/python/tf/keras/Model#evaluate) and [```model.predict()```](https://www.tensorflow.org/api_docs/python/tf/keras/Model#predict) will be used.\n",
    "\n",
    "The evaluation test the model by taking *features* and *labels* as argument, and print the accuracy of the artificial intelligence:"
   ]
  },
  {
   "cell_type": "code",
   "execution_count": 7,
   "metadata": {},
   "outputs": [
    {
     "name": "stdout",
     "output_type": "stream",
     "text": [
      "1000/1000 [==============================] - 0s 60us/step\n",
      "[11.486236473083496, 0.179]\n",
      "1000/1000 [==============================] - 0s 47us/step\n",
      "[11.581324340820313, 0.089]\n"
     ]
    }
   ],
   "source": [
    "# Use same dataset as for training\n",
    "print(model.evaluate(features, labels, batch_size=32))\n",
    "\n",
    "try:\n",
    "    model.evaluate(dataset, steps=30)\n",
    "except AttributeError:\n",
    "    pass\n",
    "\n",
    "# Use new dataset\n",
    "eval_features = np.random.random((1000, 32))\n",
    "eval_labels   = np.random.random((1000, 10))\n",
    "\n",
    "print(model.evaluate(eval_features, eval_labels, batch_size=32))"
   ]
  },
  {
   "cell_type": "markdown",
   "metadata": {},
   "source": [
    "Again, the loss and accuracy values show that the model is not well-trained (because of the randomly-generated datasets)\n",
    "\n",
    "Now, let's see the model making predictions:"
   ]
  },
  {
   "cell_type": "code",
   "execution_count": 8,
   "metadata": {},
   "outputs": [
    {
     "name": "stdout",
     "output_type": "stream",
     "text": [
      "[[0.09603409 0.10527857 0.10043256 ... 0.11036966 0.10801151 0.10483573]\n",
      " [0.09613964 0.10345061 0.10419085 ... 0.0975629  0.1012838  0.10415196]\n",
      " [0.09991591 0.09631675 0.08781461 ... 0.11552334 0.09803079 0.09246165]\n",
      " ...\n",
      " [0.10857146 0.11466755 0.09612764 ... 0.09828487 0.10430472 0.10338101]\n",
      " [0.10538023 0.11146289 0.09787143 ... 0.1068722  0.10206079 0.10973802]\n",
      " [0.09098101 0.10647172 0.09218142 ... 0.10599961 0.10224129 0.11448481]]\n",
      "[[0.1015095  0.09977439 0.10405377 0.09252965 0.10014711 0.10237848\n",
      "  0.09196179 0.09292489 0.10511424 0.10960615]]\n"
     ]
    }
   ],
   "source": [
    "print(model.predict(features, batch_size=32))\n",
    "print(model.predict(np.random.random((1, 32)), batch_size=32))\n",
    "\n",
    "try:\n",
    "    model.predict(dataset, steps=30)\n",
    "except AttributeError:\n",
    "    pass"
   ]
  },
  {
   "cell_type": "markdown",
   "metadata": {},
   "source": [
    "### Save & Load ###"
   ]
  },
  {
   "cell_type": "markdown",
   "metadata": {},
   "source": [
    "From now on, we created a model, train it, evaluate it, to finally make prediction. But imagine now that the training is an incredibly long process (this is the case in the real world), same for the evaluation phase. Do you believe that each time your computer or your server will train it from scratch at every startup? Of course, it would be a waste of time. Fortunatly for us, TensorFlow developers implemented a way to save and restore our model. In this example, my model will be saved in this folder:"
   ]
  },
  {
   "cell_type": "code",
   "execution_count": 9,
   "metadata": {},
   "outputs": [],
   "source": [
    "model_path = \"../../../../../res/saved_models/keras_tuto_model\""
   ]
  },
  {
   "cell_type": "markdown",
   "metadata": {},
   "source": [
    "The TensorFlow team created the method [```model.save_weights()```](https://www.tensorflow.org/api_docs/python/tf/keras/Model#save_weights) to save the model weights, so you only have to run the training process once. Then, you can call [```model.load_weights()```](https://www.tensorflow.org/api_docs/python/tf/keras/Model#load_weights) to load your model every time you need to! Ideally, a small evaluation would be perfect to assess the loaded model. The code below described this very simple in only 3 lines of code:"
   ]
  },
  {
   "cell_type": "code",
   "execution_count": 10,
   "metadata": {},
   "outputs": [],
   "source": [
    "import h5py\n",
    "\n",
    "model.save_weights(model_path)\n",
    "model.load_weights(model_path)"
   ]
  },
  {
   "cell_type": "markdown",
   "metadata": {},
   "source": [
    "You may have see that the python package h5py is required. If you are on Debian/Ubuntu, you must run the following command:\n",
    "```bash\n",
    "sudo apt-get install libhdf5-dev\n",
    "```\n",
    "Then, the python package h5py must be installed in your environment. If you use pip, you can run this command:\n",
    "```bash\n",
    "pip install h5py\n",
    "```\n",
    "If you use an Anaconda environment, run that command:\n",
    "```bash\n",
    "conda install -n myenv h5py\n",
    "```\n",
    "Please the the [Stack Overflow forum about this subject for more details](https://stackoverflow.com/questions/43385565/importerrorsave-weights-requires-h5py).\n",
    "\n",
    "The file created is a [TensorFlow checkpoint file](https://www.tensorflow.org/guide/checkpoints), but we can specify to save our model according to the Keras HDF5 file format:"
   ]
  },
  {
   "cell_type": "code",
   "execution_count": 11,
   "metadata": {},
   "outputs": [
    {
     "name": "stderr",
     "output_type": "stream",
     "text": [
      "ERROR:root:Error while saving|loading model\n",
      "Traceback (most recent call last):\n",
      "  File \"<ipython-input-11-a468e51e1aec>\", line 2, in <module>\n",
      "    model.save_weights(model_path + \".h5\", save_format=\"h5\")\n",
      "TypeError: save_weights() got an unexpected keyword argument 'save_format'\n"
     ]
    }
   ],
   "source": [
    "try:\n",
    "    model.save_weights(model_path + \".h5\", save_format=\"h5\")\n",
    "    model.load_weights(model_path + \".h5\")\n",
    "except TypeError:\n",
    "    logging.exception(\"Error while saving|loading model\")"
   ]
  },
  {
   "cell_type": "markdown",
   "metadata": {},
   "source": [
    "### Advanced Model ###"
   ]
  },
  {
   "cell_type": "markdown",
   "metadata": {},
   "source": [
    "The [```tf.keras.Sequential```](https://www.tensorflow.org/api_docs/python/tf/keras/Sequential) class to generate a model is cute, but not very effective all the time. Depending on the problem, other type of model might be selected (for more information about Keras model, see the [functional API guide](https://keras.io/getting-started/functional-api-guide/))"
   ]
  }
 ],
 "metadata": {
  "kernelspec": {
   "display_name": "Python 3",
   "language": "python",
   "name": "python3"
  },
  "language_info": {
   "codemirror_mode": {
    "name": "ipython",
    "version": 3
   },
   "file_extension": ".py",
   "mimetype": "text/x-python",
   "name": "python",
   "nbconvert_exporter": "python",
   "pygments_lexer": "ipython3",
   "version": "3.5.5"
  }
 },
 "nbformat": 4,
 "nbformat_minor": 1
}
