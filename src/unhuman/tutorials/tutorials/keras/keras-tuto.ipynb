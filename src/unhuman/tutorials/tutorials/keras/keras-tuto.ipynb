{
 "cells": [
  {
   "cell_type": "code",
   "execution_count": 1,
   "metadata": {},
   "outputs": [],
   "source": [
    "# -*- coding: utf-8 -*-"
   ]
  },
  {
   "cell_type": "markdown",
   "metadata": {},
   "source": [
    "# Unhuman Project #"
   ]
  },
  {
   "cell_type": "markdown",
   "metadata": {},
   "source": [
    "## Tutorial - Keras ##"
   ]
  },
  {
   "cell_type": "markdown",
   "metadata": {},
   "source": [
    "In this document, I will write the python code given by the [TensorFlow Tutorial: Keras Guide](https://www.tensorflow.org/guide/keras)\n",
    "\n",
    "Keras is an API to help build and train artificial intelligence model, implemented in TensorFlow library. The *model* is a group of layers which contains neurons."
   ]
  },
  {
   "cell_type": "markdown",
   "metadata": {},
   "source": [
    "### Get Started with Keras ###"
   ]
  },
  {
   "cell_type": "markdown",
   "metadata": {},
   "source": [
    "In Python, to import keras, the following code must be added:"
   ]
  },
  {
   "cell_type": "code",
   "execution_count": 2,
   "metadata": {},
   "outputs": [
    {
     "name": "stderr",
     "output_type": "stream",
     "text": [
      "Using TensorFlow backend.\n"
     ]
    }
   ],
   "source": [
    "import tensorflow as tf\n",
    "import keras"
   ]
  },
  {
   "cell_type": "markdown",
   "metadata": {},
   "source": [
    "We can now use keras through ```tf.keras``` module.\n",
    "\n",
    "Note that you might need to install the ```keras``` python package by using:\n",
    "```bash\n",
    "pip install keras\n",
    "```\n",
    "or\n",
    "```bash\n",
    "conda install -n myenv keras\n",
    "```"
   ]
  },
  {
   "cell_type": "code",
   "execution_count": 3,
   "metadata": {},
   "outputs": [
    {
     "name": "stdout",
     "output_type": "stream",
     "text": [
      "TensorFlow version: 1.8.0\n",
      "Keras version: 2.2.0\n"
     ]
    }
   ],
   "source": [
    "print(\"TensorFlow version: {0}\\nKeras version: {1}\".format(tf.__version__, keras.__version__))"
   ]
  },
  {
   "cell_type": "markdown",
   "metadata": {},
   "source": [
    "### Build Simple Model ###"
   ]
  },
  {
   "cell_type": "markdown",
   "metadata": {},
   "source": [
    "#### Sequential Model ####"
   ]
  },
  {
   "cell_type": "markdown",
   "metadata": {},
   "source": [
    "The following code build a Sequential model, with a fully-connected neural network (multi-layer perceptron):"
   ]
  },
  {
   "cell_type": "code",
   "execution_count": 4,
   "metadata": {},
   "outputs": [],
   "source": [
    "model = tf.keras.Sequential()\n",
    "\n",
    "# Add a dense layer containing 64 neurons\n",
    "model.add(tf.keras.layers.Dense(units=64, activation=\"relu\", input_shape=(32,)))\n",
    "\n",
    "# Add another\n",
    "model.add(tf.keras.layers.Dense(units=64, activation=\"relu\"))\n",
    "\n",
    "# Add a softmax layer with 10 output neurons\n",
    "model.add(tf.keras.layers.Dense(units=10, activation=\"softmax\"))"
   ]
  },
  {
   "cell_type": "markdown",
   "metadata": {},
   "source": [
    "As a reminder, The ```relu``` activation function, also called **Rectifer function** returns 0 if the inputs ```x``` is less or equal to zero, or ```x``` otherwise. In other words, the function will conserve the effect during the training process. The following formula shows the function in a more mathematical way:\n",
    "\\begin{equation*}\n",
    "f(x) = \\begin{Bmatrix}\n",
    "0 & if x \\leq 0\\\\ \n",
    "x & if x > 0\n",
    "\\end{Bmatrix} = max(0, x)\n",
    "\\end{equation*}\n",
    "![Retifier function](../../../../../res/images/relu.png)\n",
    "\n",
    "---\n",
    "\n",
    "The **Softmax function**, on the other hand, help to train classification model. The function $\\sigma(z)_{j}$ takes as input a vector. The parameter $j$ is the index of the output neuron ($j = 1, 2, ..., K$). The following equation represents the Softmax function:\n",
    "\\begin{equation*}\n",
    "\\sigma(z)_{j} = \\frac{e^{z_{j}}}{\\sum_{k=1}^{K} e^{z_k}}\n",
    "\\end{equation*}\n",
    "\n",
    "---\n",
    "\n",
    "Another known activation function which is not in this python code is **Sigmoid function**. This function is widely use in artificial intelligence, and it is one of the most activation functions.\n",
    "\\begin{equation*}\n",
    "f(x) = \\frac{1}{1 + e^{-x}}\n",
    "\\end{equation*}\n",
    "![Sigmoid function](../../../../../res/images/sigmoid.png)"
   ]
  },
  {
   "cell_type": "markdown",
   "metadata": {},
   "source": [
    "#### Configuration ####"
   ]
  },
  {
   "cell_type": "markdown",
   "metadata": {},
   "source": [
    "Amongst all [```tf.keras.layers```](https://www.tensorflow.org/api_docs/python/tf/keras/layers) constructors, there are common arguments that must be detailed before delve into it:\n",
    "* **```activation=```:** The activation function of the neurons for this specific layer. It can be a function name (```str```) or the built-in function it-self (ex: ```tf.keras.layers.Dense(units=10, activation=tf.sigmoid)```).\n",
    "* **```kernel_initialize=```:** The layer's weights at initialization, for every neuron in the layer (ex: ```kernel_initializer=\"orthogonal\"```).\n",
    "* **```biad_initialize=```:** The layer's bias weight only at initialization, for every neuron in the layer (ex: ```bias_initializer=tf.keras/initializers.constant(2.0)```).\n",
    "* **```kernel_regularizer=```:** The regularization that modify the layer's weights (ex: ```kernel_regularizer=tf.keras.regularizers.l1(0.01)```). By default, there is no regularization.\n",
    "* **```bias_regularizer=```:** The regularization that modify the layer's bias weight (ex: ```bias_regularizer=tf.keras.regularizers.l2(0.01)```). By default, there is no regularization."
   ]
  },
  {
   "cell_type": "markdown",
   "metadata": {},
   "source": [
    "### Training ###"
   ]
  },
  {
   "cell_type": "markdown",
   "metadata": {},
   "source": [
    "#### Configuration ####"
   ]
  },
  {
   "cell_type": "markdown",
   "metadata": {},
   "source": [
    "The method [```tf.keras.Model.compile```](https://www.tensorflow.org/api_docs/python/tf/keras/Model#compile) allow the developer to configure the training process. The most relevant arguments are:\n",
    "* **```optimzer=```:** The optimizer that will train the model. See the module [```tf.train```](https://www.tensorflow.org/api_docs/python/tf/train) for more detail, and have a look at [```AdamOptimizer```](https://www.tensorflow.org/api_docs/python/tf/train/AdamOptimizer), [```RMSPropOptimizer```](https://www.tensorflow.org/api_docs/python/tf/train/RMSPropOptimizer) and [```GradientDescentOptimizer```](https://www.tensorflow.org/api_docs/python/tf/train/GradientDescentOptimizer) which are the three most known optimizer in TensorFlow.\n",
    "* **```loss=```:** The function that compute the error between the computed value by the model, and the expected value (label). The code below is the error function in the [TensorFlow eager tutorial](https://www.tensorflow.org/tutorials/eager/custom_training_walkthrough#define_the_loss_and_gradient_function) that can be passed as argument for this parameter:\n",
    "```python\n",
    "def error(model: tf.keras.models.Model, x, y):\n",
    "\t\"\"\"\n",
    "\tCompute the error between the value returned by model(x) and the expected result y\n",
    "\t:param model: The model to use\n",
    "\t:param x: The input(s)\n",
    "\t:param y: The expected value that the model is supposed to return with x as input(s)\n",
    "\t:return: The error between the actual value and the expected value\n",
    "\t\"\"\"\n",
    "\tcomputed_y = model(x)\n",
    "\treturn tf.losses.sparse_softmax_cross_entropy(labels=y, logits=computed_y)\n",
    "```\n",
    "* **```metrics=```:** The metric to monitor and evaluate during the training/testing process. For more detail about this argument, please [see the documentation about it](https://www.tensorflow.org/api_docs/python/tf/keras/Model#compile). This parameter accept string, list of string, dictionary (containing string as value) or function type (which are listed [here](https://www.tensorflow.org/api_docs/python/tf/keras/metrics)). A typical example is ```metrics=[\"accuracy\"]``` to monitor the accracy level, or ```metrics=[\"mae\"]``` to watch the *mean absolute error*.\n",
    "\n",
    "For more examples about this method, please have a look at the [TensorFlow tutorial page](https://www.tensorflow.org/guide/keras#set_up_training).\n",
    "\n",
    "Now, let's configure the model:"
   ]
  },
  {
   "cell_type": "code",
   "execution_count": 5,
   "metadata": {},
   "outputs": [],
   "source": [
    "model.compile(\n",
    "    optimizer=tf.train.AdamOptimizer(0.001),\n",
    "    loss=\"categorical_crossentropy\",\n",
    "    metrics=[\"accuracy\"]\n",
    ")"
   ]
  },
  {
   "cell_type": "markdown",
   "metadata": {},
   "source": [
    "#### *Fit* Training ####"
   ]
  },
  {
   "cell_type": "markdown",
   "metadata": {},
   "source": [
    "For this example, a small dataset will be used to train the model (as it doesn't have any purpose). Fortunatly, TensorFlow has implemented a function for that instead of passing through a training-loop. And this alternative is [```model.fit()```](https://www.tensorflow.org/api_docs/python/tf/keras/Model#fit) methods, which take 5 important parameters:\n",
    "* **```x=```:** The inputs (*features*) (an array of array of int, for instance)\n",
    "* **```y=```:** The expected outputs (*labels*)\n",
    "* **```batch_size=```:** The number of *slices* of inputs to cut for each iteration. A typical value is ```32```. Warning: The last batch might be very small if the number of samples is not divisible by ```batch_size```.\n",
    "* **```epochs=```:** Number of iterations through the whole dataset input.\n",
    "* **```verbose=```:** (*Optional*) Set the log level: 0 for quiet mode, 1 to display a progressbar (default), or 2 for one line per epoch.\n",
    "* **```validation_data=```:** (*Optional*) Tuple of features and labels. The ```fit``` function will compute the error made by the model at each iteration using this dataset and print it.\n",
    "\n",
    "Time for training the model. I will use the library [NumPy](https://www.numpy.org/) to generate a random dataset:"
   ]
  },
  {
   "cell_type": "code",
   "execution_count": 6,
   "metadata": {},
   "outputs": [
    {
     "name": "stdout",
     "output_type": "stream",
     "text": [
      "Train on 1000 samples, validate on 1000 samples\n",
      "Epoch 1/10\n",
      "1000/1000 [==============================] - 0s 368us/step - loss: 11.3902 - acc: 0.1030 - val_loss: 11.4331 - val_acc: 0.1020\n",
      "Epoch 2/10\n",
      "1000/1000 [==============================] - 0s 127us/step - loss: 11.3537 - acc: 0.1040 - val_loss: 11.4251 - val_acc: 0.1100\n",
      "Epoch 3/10\n",
      "1000/1000 [==============================] - 0s 125us/step - loss: 11.3438 - acc: 0.1390 - val_loss: 11.4247 - val_acc: 0.0960\n",
      "Epoch 4/10\n",
      "1000/1000 [==============================] - 0s 128us/step - loss: 11.3370 - acc: 0.1430 - val_loss: 11.4261 - val_acc: 0.1040\n",
      "Epoch 5/10\n",
      "1000/1000 [==============================] - 0s 113us/step - loss: 11.3320 - acc: 0.1490 - val_loss: 11.4235 - val_acc: 0.0930\n",
      "Epoch 6/10\n",
      "1000/1000 [==============================] - 0s 105us/step - loss: 11.3274 - acc: 0.1610 - val_loss: 11.4242 - val_acc: 0.0890\n",
      "Epoch 7/10\n",
      "1000/1000 [==============================] - 0s 108us/step - loss: 11.3230 - acc: 0.1620 - val_loss: 11.4259 - val_acc: 0.1070\n",
      "Epoch 8/10\n",
      "1000/1000 [==============================] - 0s 126us/step - loss: 11.3189 - acc: 0.1720 - val_loss: 11.4257 - val_acc: 0.1070\n",
      "Epoch 9/10\n",
      "1000/1000 [==============================] - 0s 118us/step - loss: 11.3152 - acc: 0.1840 - val_loss: 11.4278 - val_acc: 0.0980\n",
      "Epoch 10/10\n",
      "1000/1000 [==============================] - 0s 114us/step - loss: 11.3114 - acc: 0.1710 - val_loss: 11.4291 - val_acc: 0.1120\n"
     ]
    },
    {
     "data": {
      "text/plain": [
       "<tensorflow.python.keras._impl.keras.callbacks.History at 0x7f1c1c973080>"
      ]
     },
     "execution_count": 6,
     "metadata": {},
     "output_type": "execute_result"
    }
   ],
   "source": [
    "import numpy as np\n",
    "\n",
    "features = np.random.random((1000, 32)) # Generate an array containing 1000 array which contain 32 values each\n",
    "labels   = np.random.random((1000, 10)) # array containing 1000 arrays containing 10 values\n",
    "\n",
    "val_features = np.random.random((1000, 32))\n",
    "val_labels   = np.random.random((1000, 10))\n",
    "\n",
    "model.fit(\n",
    "    x=features,\n",
    "    y=labels,\n",
    "    batch_size=32,\n",
    "    epochs=10,\n",
    "    validation_data=(val_features, val_labels)\n",
    ")"
   ]
  },
  {
   "cell_type": "markdown",
   "metadata": {},
   "source": [
    "If you execute this code, you must see above the output given by the ```fit``` function after computing the validation data at each iteration. You may found a very high loss value (~11.5) and an accuracy value very low (~0.1). The answer of this paradox is that the training dataset and the validation dataset are both **randomly generated**, and then they might not have any link between those two sets. So don't worry if you find such values.\n",
    "\n",
    "Now let's see how to train the model with larger dataset. In this case, the ```fit``` function must take the class [```tf.data.Dataset```](https://www.tensorflow.org/api_docs/python/tf/data/Dataset). For more information about the Dataset class, please see the [tutorial related to that subject](https://www.tensorflow.org/guide/datasets). An additional argument is required for this case: **```steps_per_epoch```** take an integer that will set the number of training step to run before moving to the next iteration. Finally, as ```Dataset``` is a TensorFlow-type, there is no need to specify the batch as it is wrapped in the ```Dataset``` instance:"
   ]
  },
  {
   "cell_type": "code",
   "execution_count": 7,
   "metadata": {
    "scrolled": false
   },
   "outputs": [
    {
     "name": "stderr",
     "output_type": "stream",
     "text": [
      "ERROR:root:Error while training model\n",
      "Traceback (most recent call last):\n",
      "  File \"<ipython-input-7-d90b06a579a9>\", line 15, in <module>\n",
      "    validation_steps=3\n",
      "  File \"/home/valentin/anaconda3/envs/tensorflow/lib/python3.5/site-packages/tensorflow/python/keras/_impl/keras/engine/training.py\", line 1143, in fit\n",
      "    batch_size=batch_size)\n",
      "  File \"/home/valentin/anaconda3/envs/tensorflow/lib/python3.5/site-packages/tensorflow/python/keras/_impl/keras/engine/training.py\", line 765, in _standardize_user_data\n",
      "    exception_prefix='input')\n",
      "  File \"/home/valentin/anaconda3/envs/tensorflow/lib/python3.5/site-packages/tensorflow/python/keras/_impl/keras/engine/training_utils.py\", line 150, in standardize_input_data\n",
      "    data = [standardize_single_array(x) for x in data]\n",
      "  File \"/home/valentin/anaconda3/envs/tensorflow/lib/python3.5/site-packages/tensorflow/python/keras/_impl/keras/engine/training_utils.py\", line 150, in <listcomp>\n",
      "    data = [standardize_single_array(x) for x in data]\n",
      "  File \"/home/valentin/anaconda3/envs/tensorflow/lib/python3.5/site-packages/tensorflow/python/keras/_impl/keras/engine/training_utils.py\", line 88, in standardize_single_array\n",
      "    elif x.ndim == 1:\n",
      "AttributeError: 'RepeatDataset' object has no attribute 'ndim'\n"
     ]
    }
   ],
   "source": [
    "dataset = tf.data.Dataset.from_tensor_slices((features, labels))\n",
    "dataset = dataset.batch(32).repeat()\n",
    "\n",
    "val_dataset = tf.data.Dataset.from_tensor_slices((val_features, val_labels))\n",
    "val_dataset = val_dataset.batch(32).repeat()\n",
    "\n",
    "import logging\n",
    "\n",
    "try:\n",
    "    model.fit(\n",
    "        x=dataset,\n",
    "        epochs=10,\n",
    "        steps_per_epoch=30,\n",
    "        validation_data=val_dataset,\n",
    "        validation_steps=3\n",
    "    )\n",
    "except (ValueError, AttributeError) as e:\n",
    "    logging.exception(\"Error while training model\")"
   ]
  },
  {
   "cell_type": "markdown",
   "metadata": {},
   "source": [
    "#### Evaluation & Prediction ####"
   ]
  },
  {
   "cell_type": "markdown",
   "metadata": {},
   "source": [
    "This is it! The model is finally ready to evaluate and predict some stuff! For that, the methods [```model.evaluate()```](https://www.tensorflow.org/api_docs/python/tf/keras/Model#evaluate) and [```model.predict()```](https://www.tensorflow.org/api_docs/python/tf/keras/Model#predict) will be used.\n",
    "\n",
    "The evaluation test the model by taking *features* and *labels* as argument, and print the accuracy of the artificial intelligence:"
   ]
  },
  {
   "cell_type": "code",
   "execution_count": 8,
   "metadata": {},
   "outputs": [
    {
     "name": "stdout",
     "output_type": "stream",
     "text": [
      "1000/1000 [==============================] - 0s 58us/step\n",
      "[11.303996612548827, 0.193]\n",
      "1000/1000 [==============================] - 0s 44us/step\n",
      "[11.534885772705078, 0.097]\n"
     ]
    }
   ],
   "source": [
    "# Use same dataset as for training\n",
    "print(model.evaluate(features, labels, batch_size=32))\n",
    "\n",
    "try:\n",
    "    model.evaluate(dataset, steps=30)\n",
    "except AttributeError:\n",
    "    pass\n",
    "\n",
    "# Use new dataset\n",
    "eval_features = np.random.random((1000, 32))\n",
    "eval_labels   = np.random.random((1000, 10))\n",
    "\n",
    "print(model.evaluate(eval_features, eval_labels, batch_size=32))"
   ]
  },
  {
   "cell_type": "markdown",
   "metadata": {},
   "source": [
    "Again, the loss and accuracy values show that the model is not well-trained (because of the randomly-generated datasets)\n",
    "\n",
    "Now, let's see the model making predictions:"
   ]
  },
  {
   "cell_type": "code",
   "execution_count": 9,
   "metadata": {},
   "outputs": [
    {
     "name": "stdout",
     "output_type": "stream",
     "text": [
      "[[0.09576748 0.10057688 0.10572311 ... 0.11618517 0.09452222 0.10168298]\n",
      " [0.09357262 0.0932245  0.09892547 ... 0.09279271 0.10856765 0.10318049]\n",
      " [0.11031297 0.08800296 0.11916354 ... 0.10021707 0.10650959 0.10138889]\n",
      " ...\n",
      " [0.08309896 0.09511109 0.11259111 ... 0.07988581 0.11037964 0.12007572]\n",
      " [0.09134094 0.10270802 0.1043223  ... 0.09978572 0.11463394 0.10813463]\n",
      " [0.11236557 0.11411333 0.0850627  ... 0.09729278 0.09467758 0.09578913]]\n",
      "[[0.10309421 0.09213614 0.08949016 0.09847016 0.1117708  0.08090905\n",
      "  0.09971412 0.11021495 0.1073982  0.10680222]]\n"
     ]
    }
   ],
   "source": [
    "print(model.predict(features, batch_size=32))\n",
    "print(model.predict(np.random.random((1, 32)), batch_size=32))\n",
    "\n",
    "try:\n",
    "    model.predict(dataset, steps=30)\n",
    "except AttributeError:\n",
    "    pass"
   ]
  },
  {
   "cell_type": "markdown",
   "metadata": {},
   "source": [
    "### Advanced Model ###"
   ]
  },
  {
   "cell_type": "markdown",
   "metadata": {},
   "source": [
    "The [```tf.keras.Sequential```](https://www.tensorflow.org/api_docs/python/tf/keras/Sequential) class to generate a model is cute, but not very effective all the time. Depending on the problem, other type of model might be selected (for more information about Keras model, see the [functional API guide](https://keras.io/getting-started/functional-api-guide/))"
   ]
  },
  {
   "cell_type": "markdown",
   "metadata": {},
   "source": [
    "[...]"
   ]
  },
  {
   "cell_type": "markdown",
   "metadata": {},
   "source": [
    "### Save & Load ###"
   ]
  },
  {
   "cell_type": "markdown",
   "metadata": {},
   "source": [
    "#### Weights ####"
   ]
  },
  {
   "cell_type": "markdown",
   "metadata": {},
   "source": [
    "From now on, we created a model, train it, evaluate it, to finally make prediction. But imagine now that the training is an incredibly long process (this is the case in the real world), same for the evaluation phase. Do you believe that each time your computer or your server will train it from scratch at every startup? Of course, it would be a waste of time. Fortunatly for us, TensorFlow developers implemented a way to save and restore our model. In this example, my model will be saved in this folder:"
   ]
  },
  {
   "cell_type": "code",
   "execution_count": 10,
   "metadata": {},
   "outputs": [],
   "source": [
    "model_path = \"../../../../../res/saved_models/keras_tuto_model\""
   ]
  },
  {
   "cell_type": "markdown",
   "metadata": {},
   "source": [
    "The TensorFlow team created the method [```model.save_weights()```](https://www.tensorflow.org/api_docs/python/tf/keras/Model#save_weights) to save the model weights, so you only have to run the training process once. Then, you can call [```model.load_weights()```](https://www.tensorflow.org/api_docs/python/tf/keras/Model#load_weights) to load your model every time you need to! Ideally, a small evaluation would be perfect to assess the loaded model. The code below described this very simple in only 3 lines of code:"
   ]
  },
  {
   "cell_type": "code",
   "execution_count": 11,
   "metadata": {},
   "outputs": [],
   "source": [
    "import h5py\n",
    "\n",
    "model.save_weights(model_path + \"_weights\")\n",
    "model.load_weights(model_path + \"_weights\")"
   ]
  },
  {
   "cell_type": "markdown",
   "metadata": {},
   "source": [
    "You may have see that the python package h5py is required. If you are on Debian/Ubuntu, you must run the following command:\n",
    "```bash\n",
    "sudo apt-get install libhdf5-dev\n",
    "```\n",
    "Then, the python package h5py must be installed in your environment. If you use pip, you can run this command:\n",
    "```bash\n",
    "pip install h5py\n",
    "```\n",
    "If you use an Anaconda environment, run that command:\n",
    "```bash\n",
    "conda install -n myenv h5py\n",
    "```\n",
    "Please the the [Stack Overflow forum about this subject for more details](https://stackoverflow.com/questions/43385565/importerrorsave-weights-requires-h5py).\n",
    "\n",
    "The file created is a [TensorFlow checkpoint file](https://www.tensorflow.org/guide/checkpoints), but we can specify to save our model according to the Keras HDF5 file format:"
   ]
  },
  {
   "cell_type": "code",
   "execution_count": 12,
   "metadata": {},
   "outputs": [
    {
     "name": "stderr",
     "output_type": "stream",
     "text": [
      "ERROR:root:Error while saving|loading model\n",
      "Traceback (most recent call last):\n",
      "  File \"<ipython-input-12-92659b39e074>\", line 2, in <module>\n",
      "    model.save_weights(model_path + \"_weights.h5\", save_format=\"h5\")\n",
      "TypeError: save_weights() got an unexpected keyword argument 'save_format'\n"
     ]
    }
   ],
   "source": [
    "try:\n",
    "    model.save_weights(model_path + \"_weights.h5\", save_format=\"h5\")\n",
    "    model.load_weights(model_path + \"_weights.h5\")\n",
    "except TypeError:\n",
    "    logging.exception(\"Error while saving|loading model\")"
   ]
  },
  {
   "cell_type": "markdown",
   "metadata": {},
   "source": [
    "#### Configuration ####"
   ]
  },
  {
   "cell_type": "markdown",
   "metadata": {},
   "source": [
    "Previously, we saved only the **weights** of the model, but now we will save the configuration only as a JSON or YAML format:"
   ]
  },
  {
   "cell_type": "code",
   "execution_count": 13,
   "metadata": {},
   "outputs": [
    {
     "name": "stdout",
     "output_type": "stream",
     "text": [
      "{\"config\": [{\"config\": {\"bias_initializer\": {\"config\": {\"dtype\": \"float32\"}, \"class_name\": \"Zeros\"}, \"bias_regularizer\": null, \"trainable\": true, \"kernel_regularizer\": null, \"name\": \"dense_1\", \"use_bias\": true, \"kernel_constraint\": null, \"dtype\": \"float32\", \"activity_regularizer\": null, \"bias_constraint\": null, \"activation\": \"relu\", \"kernel_initializer\": {\"config\": {\"mode\": \"fan_avg\", \"distribution\": \"uniform\", \"scale\": 1.0, \"dtype\": \"float32\", \"seed\": null}, \"class_name\": \"VarianceScaling\"}, \"batch_input_shape\": [null, 32], \"units\": 64}, \"class_name\": \"Dense\"}, {\"config\": {\"bias_initializer\": {\"config\": {\"dtype\": \"float32\"}, \"class_name\": \"Zeros\"}, \"bias_regularizer\": null, \"trainable\": true, \"kernel_regularizer\": null, \"name\": \"dense_2\", \"use_bias\": true, \"kernel_constraint\": null, \"dtype\": \"float32\", \"activity_regularizer\": null, \"bias_constraint\": null, \"activation\": \"relu\", \"kernel_initializer\": {\"config\": {\"mode\": \"fan_avg\", \"distribution\": \"uniform\", \"scale\": 1.0, \"dtype\": \"float32\", \"seed\": null}, \"class_name\": \"VarianceScaling\"}, \"units\": 64}, \"class_name\": \"Dense\"}, {\"config\": {\"bias_initializer\": {\"config\": {\"dtype\": \"float32\"}, \"class_name\": \"Zeros\"}, \"bias_regularizer\": null, \"trainable\": true, \"kernel_regularizer\": null, \"name\": \"dense_3\", \"use_bias\": true, \"kernel_constraint\": null, \"dtype\": \"float32\", \"activity_regularizer\": null, \"bias_constraint\": null, \"activation\": \"softmax\", \"kernel_initializer\": {\"config\": {\"mode\": \"fan_avg\", \"distribution\": \"uniform\", \"scale\": 1.0, \"dtype\": \"float32\", \"seed\": null}, \"class_name\": \"VarianceScaling\"}, \"units\": 10}, \"class_name\": \"Dense\"}], \"keras_version\": \"2.1.5-tf\", \"backend\": \"tensorflow\", \"class_name\": \"Sequential\"}\n"
     ]
    }
   ],
   "source": [
    "# Get the JSON string format of the model:\n",
    "json_format = model.to_json()\n",
    "print(json_format)\n",
    "\n",
    "# Write it\n",
    "with open(model_path + \"_config.json\", 'w') as f:\n",
    "    f.write(json_format + \"\\n\")\n",
    "\n",
    "del json_format\n",
    "\n",
    "# Read it\n",
    "json_format = None\n",
    "with open(model_path + \"_config.json\", 'r') as f:\n",
    "    json_format = f.read()\n",
    "\n",
    "assert json_format != None\n",
    "\n",
    "new_model = keras.models.model_from_json(json_format)"
   ]
  },
  {
   "cell_type": "markdown",
   "metadata": {},
   "source": [
    "Now, let's serialize the model in YAML:"
   ]
  },
  {
   "cell_type": "code",
   "execution_count": 14,
   "metadata": {},
   "outputs": [
    {
     "name": "stdout",
     "output_type": "stream",
     "text": [
      "backend: tensorflow\n",
      "class_name: Sequential\n",
      "config:\n",
      "- class_name: Dense\n",
      "  config:\n",
      "    activation: relu\n",
      "    activity_regularizer: null\n",
      "    batch_input_shape: !!python/tuple [null, 32]\n",
      "    bias_constraint: null\n",
      "    bias_initializer:\n",
      "      class_name: Zeros\n",
      "      config: {dtype: float32}\n",
      "    bias_regularizer: null\n",
      "    dtype: float32\n",
      "    kernel_constraint: null\n",
      "    kernel_initializer:\n",
      "      class_name: VarianceScaling\n",
      "      config: {distribution: uniform, dtype: float32, mode: fan_avg, scale: 1.0, seed: null}\n",
      "    kernel_regularizer: null\n",
      "    name: dense_1\n",
      "    trainable: true\n",
      "    units: 64\n",
      "    use_bias: true\n",
      "- class_name: Dense\n",
      "  config:\n",
      "    activation: relu\n",
      "    activity_regularizer: null\n",
      "    bias_constraint: null\n",
      "    bias_initializer:\n",
      "      class_name: Zeros\n",
      "      config: {dtype: float32}\n",
      "    bias_regularizer: null\n",
      "    dtype: float32\n",
      "    kernel_constraint: null\n",
      "    kernel_initializer:\n",
      "      class_name: VarianceScaling\n",
      "      config: {distribution: uniform, dtype: float32, mode: fan_avg, scale: 1.0, seed: null}\n",
      "    kernel_regularizer: null\n",
      "    name: dense_2\n",
      "    trainable: true\n",
      "    units: 64\n",
      "    use_bias: true\n",
      "- class_name: Dense\n",
      "  config:\n",
      "    activation: softmax\n",
      "    activity_regularizer: null\n",
      "    bias_constraint: null\n",
      "    bias_initializer:\n",
      "      class_name: Zeros\n",
      "      config: {dtype: float32}\n",
      "    bias_regularizer: null\n",
      "    dtype: float32\n",
      "    kernel_constraint: null\n",
      "    kernel_initializer:\n",
      "      class_name: VarianceScaling\n",
      "      config: {distribution: uniform, dtype: float32, mode: fan_avg, scale: 1.0, seed: null}\n",
      "    kernel_regularizer: null\n",
      "    name: dense_3\n",
      "    trainable: true\n",
      "    units: 10\n",
      "    use_bias: true\n",
      "keras_version: 2.1.5-tf\n",
      "\n"
     ]
    }
   ],
   "source": [
    "# Get the YAML string format of the model:\n",
    "yaml_format = model.to_yaml()\n",
    "print(yaml_format)\n",
    "\n",
    "# Write it\n",
    "with open(model_path + \"_config.yaml\", 'w') as f:\n",
    "    f.write(yaml_format + \"\\n\")\n",
    "\n",
    "del yaml_format\n",
    "\n",
    "# Read it\n",
    "yaml_format = None\n",
    "with open(model_path + \"_config.yaml\", 'r') as f:\n",
    "    yaml_format = f.read()\n",
    "\n",
    "assert yaml_format != None\n",
    "\n",
    "new_model = keras.models.model_from_yaml(yaml_format)"
   ]
  },
  {
   "cell_type": "markdown",
   "metadata": {},
   "source": [
    "#### Entire model ####"
   ]
  },
  {
   "cell_type": "markdown",
   "metadata": {},
   "source": [
    "In most of the case, you will save the **entire model**, including the **weights**, the **configuration** and the **optimizer**:"
   ]
  },
  {
   "cell_type": "code",
   "execution_count": 15,
   "metadata": {},
   "outputs": [
    {
     "name": "stdout",
     "output_type": "stream",
     "text": [
      "Epoch 1/10\n",
      "1000/1000 [==============================] - 0s 347us/step - loss: 11.4035 - acc: 0.0970\n",
      "Epoch 2/10\n",
      "1000/1000 [==============================] - 0s 90us/step - loss: 11.3553 - acc: 0.0960\n",
      "Epoch 3/10\n",
      "1000/1000 [==============================] - 0s 87us/step - loss: 11.3444 - acc: 0.1160\n",
      "Epoch 4/10\n",
      "1000/1000 [==============================] - 0s 95us/step - loss: 11.3376 - acc: 0.1150\n",
      "Epoch 5/10\n",
      "1000/1000 [==============================] - 0s 86us/step - loss: 11.3321 - acc: 0.1210\n",
      "Epoch 6/10\n",
      "1000/1000 [==============================] - 0s 81us/step - loss: 11.3272 - acc: 0.1450\n",
      "Epoch 7/10\n",
      "1000/1000 [==============================] - 0s 98us/step - loss: 11.3223 - acc: 0.1490\n",
      "Epoch 8/10\n",
      "1000/1000 [==============================] - 0s 89us/step - loss: 11.3168 - acc: 0.1570\n",
      "Epoch 9/10\n",
      "1000/1000 [==============================] - 0s 89us/step - loss: 11.3115 - acc: 0.1700\n",
      "Epoch 10/10\n",
      "1000/1000 [==============================] - 0s 90us/step - loss: 11.3079 - acc: 0.1720\n",
      "WARNING:tensorflow:TensorFlow optimizers do not make it possible to access optimizer attributes or optimizer state after instantiation. As a result, we cannot save the optimizer as part of the model save file.You will have to compile your model again after loading it. Prefer using a Keras optimizer instead (see keras.io/optimizers).\n"
     ]
    },
    {
     "name": "stderr",
     "output_type": "stream",
     "text": [
      "WARNING:tensorflow:TensorFlow optimizers do not make it possible to access optimizer attributes or optimizer state after instantiation. As a result, we cannot save the optimizer as part of the model save file.You will have to compile your model again after loading it. Prefer using a Keras optimizer instead (see keras.io/optimizers).\n",
      "/home/valentin/anaconda3/envs/tensorflow/lib/python3.5/site-packages/keras/engine/saving.py:270: UserWarning: No training configuration found in save file: the model was *not* compiled. Compile it manually.\n",
      "  warnings.warn('No training configuration found in save file: '\n"
     ]
    }
   ],
   "source": [
    "model = tf.keras.Sequential()\n",
    "model.add(tf.keras.layers.Dense(units=64, activation=\"relu\", input_shape=(32,)))\n",
    "model.add(tf.keras.layers.Dense(units=64, activation=\"relu\"))\n",
    "model.add(tf.keras.layers.Dense(units=10, activation=\"softmax\"))\n",
    "model.compile(\n",
    "    optimizer=tf.train.AdamOptimizer(0.001),\n",
    "    loss=\"categorical_crossentropy\",\n",
    "    metrics=[\"accuracy\"]\n",
    ")\n",
    "model.fit(features, labels, batch_size=32, epochs=10)\n",
    "\n",
    "model.save(model_path + \".h5\")\n",
    "model = keras.models.load_model(model_path + \".h5\")"
   ]
  },
  {
   "cell_type": "code",
   "execution_count": null,
   "metadata": {},
   "outputs": [],
   "source": []
  }
 ],
 "metadata": {
  "kernelspec": {
   "display_name": "Python 3",
   "language": "python",
   "name": "python3"
  },
  "language_info": {
   "codemirror_mode": {
    "name": "ipython",
    "version": 3
   },
   "file_extension": ".py",
   "mimetype": "text/x-python",
   "name": "python",
   "nbconvert_exporter": "python",
   "pygments_lexer": "ipython3",
   "version": "3.5.5"
  }
 },
 "nbformat": 4,
 "nbformat_minor": 1
}
