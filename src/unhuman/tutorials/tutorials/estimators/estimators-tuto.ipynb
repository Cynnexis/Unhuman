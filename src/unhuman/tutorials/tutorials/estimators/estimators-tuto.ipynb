{
 "cells": [
  {
   "cell_type": "code",
   "execution_count": 2,
   "metadata": {},
   "outputs": [],
   "source": [
    "# -*- coding: utf-8 -*-"
   ]
  },
  {
   "cell_type": "markdown",
   "metadata": {},
   "source": [
    "# Unhuman Project #"
   ]
  },
  {
   "cell_type": "markdown",
   "metadata": {},
   "source": [
    "## Tutorial - Keras ##"
   ]
  },
  {
   "cell_type": "markdown",
   "metadata": {},
   "source": [
    "In this document, I will write the python code given by the [TensorFlow Tutorial: Estimators Guide](https://www.tensorflow.org/guide/estimators)\n",
    "\n",
    "Estimators are a concept introduced by TensorFlow that wrap The training, evaluation, prediction and saving of a model. The python class related to that concept is [```tf.estimator.Estimator```](https://www.tensorflow.org/api_docs/python/tf/estimator/Estimator). Estimators manage on their own the [```Graph```](https://www.tensorflow.org/api_docs/python/tf/Graph) and the [```Session```](https://www.tensorflow.org/api_docs/python/tf/Session), especially pre-made estimators (which are much easier to use)."
   ]
  },
  {
   "cell_type": "markdown",
   "metadata": {},
   "source": [
    "### Getting Started ###"
   ]
  },
  {
   "cell_type": "markdown",
   "metadata": {},
   "source": [
    "First, let us import the TensorFlow package:"
   ]
  },
  {
   "cell_type": "code",
   "execution_count": 3,
   "metadata": {},
   "outputs": [
    {
     "ename": "ModuleNotFoundError",
     "evalue": "No module named 'tensorflow'",
     "output_type": "error",
     "traceback": [
      "\u001b[0;31m---------------------------------------------------------------------------\u001b[0m",
      "\u001b[0;31mModuleNotFoundError\u001b[0m                       Traceback (most recent call last)",
      "\u001b[0;32m<ipython-input-3-64156d691fe5>\u001b[0m in \u001b[0;36m<module>\u001b[0;34m()\u001b[0m\n\u001b[0;32m----> 1\u001b[0;31m \u001b[0;32mimport\u001b[0m \u001b[0mtensorflow\u001b[0m \u001b[0;32mas\u001b[0m \u001b[0mtf\u001b[0m\u001b[0;34m\u001b[0m\u001b[0m\n\u001b[0m",
      "\u001b[0;31mModuleNotFoundError\u001b[0m: No module named 'tensorflow'"
     ]
    }
   ],
   "source": [
    "import tensorflow as tf"
   ]
  },
  {
   "cell_type": "markdown",
   "metadata": {},
   "source": [
    "The following list gather all the points to do in order to instantiate a pre-made Estimator:"
   ]
  },
  {
   "cell_type": "markdown",
   "metadata": {},
   "source": [
    "1. **The importing function:** You must create a function that returns a tuple containing two objects: The features dictionary (the keys are the features, and the keys are Tensors of the corresponding key), and a Tensor containing labels. The [import data tutorial](https://www.tensorflow.org/guide/datasets) might hep you for this process.\n",
    "```python\n",
    "def import_dataset(dataset):\n",
    "    # TODO: Extract the features and labels from 'dataset'\n",
    "    return features_dict, labels\n",
    "```\n",
    "2. **Feature Columns:** Creating [```tf.feature_column```](https://www.tensorflow.org/api_docs/python/tf/feature_column)s is the next step. If a model was a table, then the features would be the columns, and this step is about that specific point. You must define the type and the name of each feature column.\n",
    "```python\n",
    "# Define 3 floating feature columns:\n",
    "population = tf.feature_column.numeric_column(\"population\")\n",
    "crime_rate = tf.feature_column.numeric_column(\"crime_rate\")\n",
    "median_education = tf.feature_column.numeric_column(\"median_education\", normalizer_fn=lambda x: x - global_education_mean)\n",
    "```\n",
    "3. **Instantiation:** Now, let's instantiate the pre-made Estimator. In the example below, the [```tf.estimator.LinearClassifier```](https://www.tensorflow.org/api_docs/python/tf/estimator/LinearClassifier) has been choosen has the Estimator.\n",
    "```python\n",
    "estimator = tf.estimator.LinearClassifier(\n",
    "    feature_columns=[population, crime_rate, median_education]\n",
    ")\n",
    "```\n",
    "4. **Train:** Finally, the moment to train it has come, at least! Use [```estimator.train()```](https://www.tensorflow.org/api_docs/python/tf/estimator/Estimator#train) to do so:\n",
    "```python\n",
    "estimator.train(input_fn=import_dataset, steps=2000)\n",
    "```"
   ]
  },
  {
   "cell_type": "markdown",
   "metadata": {},
   "source": [
    "All the snippets above are gathered in the cell below:"
   ]
  },
  {
   "cell_type": "code",
   "execution_count": null,
   "metadata": {},
   "outputs": [],
   "source": [
    "# 1. The importing function\n",
    "def import_dataset(dataset):\n",
    "    # TODO: Extract the features and labels from 'dataset'\n",
    "    return features_dict, labels\n",
    "\n",
    "# 2. Feature Columns\n",
    "population = tf.feature_column.numeric_column(\"population\")\n",
    "crime_rate = tf.feature_column.numeric_column(\"crime_rate\")\n",
    "median_education = tf.feature_column.numeric_column(\"median_education\", normalizer_fn=lambda x: x - global_education_mean)\n",
    "\n",
    "# 3. Instantiation\n",
    "estimator = tf.estimator.LinearClassifier(\n",
    "    feature_columns=[population, crime_rate, median_education]\n",
    ")\n",
    "\n",
    "# 4. Train\n",
    "estimator.train(input_fn=import_dataset, steps=2000)"
   ]
  },
  {
   "cell_type": "code",
   "execution_count": null,
   "metadata": {},
   "outputs": [],
   "source": []
  }
 ],
 "metadata": {
  "kernelspec": {
   "display_name": "Python 3",
   "language": "python",
   "name": "python3"
  },
  "language_info": {
   "codemirror_mode": {
    "name": "ipython",
    "version": 3
   },
   "file_extension": ".py",
   "mimetype": "text/x-python",
   "name": "python",
   "nbconvert_exporter": "python",
   "pygments_lexer": "ipython3",
   "version": "3.6.5"
  }
 },
 "nbformat": 4,
 "nbformat_minor": 2
}
